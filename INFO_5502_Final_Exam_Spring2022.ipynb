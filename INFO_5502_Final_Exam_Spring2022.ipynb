{
  "cells": [
    {
      "cell_type": "markdown",
      "metadata": {
        "id": "view-in-github",
        "colab_type": "text"
      },
      "source": [
        "<a href=\"https://colab.research.google.com/github/Aranagut/Tejaswini_INFO5502_Spring2022/blob/main/INFO_5502_Final_Exam_Spring2022.ipynb\" target=\"_parent\"><img src=\"https://colab.research.google.com/assets/colab-badge.svg\" alt=\"Open In Colab\"/></a>"
      ]
    },
    {
      "cell_type": "markdown",
      "metadata": {
        "id": "J_JB5h_28Xfr"
      },
      "source": [
        "### INFO 5502 Final Exam (05/12/2022, 240 points in total)"
      ]
    },
    {
      "cell_type": "markdown",
      "metadata": {
        "id": "9FG6n7ok8Xft"
      },
      "source": [
        "<span style='background:yellow'>**Question 1 (40 pt).**</span> We want to create a birthday frequency graph using the data on births in the United States, provided by the Centers for Disease Control (CDC). You can download the data from my GitHub link:https://github.com/unt-iialab/info5502-spring2022/blob/main/datasets/births.csv \n",
        "\n",
        "Please visualize the data as the following figure using python (you can use any data visualization packages):\n",
        "\n",
        "![final-exam.png](attachment:final-exam.png)"
      ]
    },
    {
      "cell_type": "code",
      "execution_count": 2,
      "metadata": {
        "id": "uQztFKBn8Xfu"
      },
      "outputs": [],
      "source": [
        "#### You code here\n",
        "\n",
        "%matplotlib inline\n",
        "import matplotlib.pyplot as plt\n",
        "import matplotlib as mpl\n",
        "plt.style.use('seaborn-whitegrid')\n",
        "import numpy as np\n",
        "import pandas as pd\n"
      ]
    },
    {
      "cell_type": "code",
      "source": [
        "df = pd.read_csv(\"https://raw.githubusercontent.com/unt-iialab/info5502-spring2022/main/datasets/births.csv\")\n",
        "df.head()"
      ],
      "metadata": {
        "colab": {
          "base_uri": "https://localhost:8080/",
          "height": 206
        },
        "id": "6Roiv2x6C1rA",
        "outputId": "1234d4e2-f910-400e-ccf8-5a9f8620e8d3"
      },
      "execution_count": 6,
      "outputs": [
        {
          "output_type": "execute_result",
          "data": {
            "text/plain": [
              "   year  month  day gender  births\n",
              "0  1969      1  1.0      F    4046\n",
              "1  1969      1  1.0      M    4440\n",
              "2  1969      1  2.0      F    4454\n",
              "3  1969      1  2.0      M    4548\n",
              "4  1969      1  3.0      F    4548"
            ],
            "text/html": [
              "\n",
              "  <div id=\"df-617678c1-f6cb-43b5-8389-26f1023945a8\">\n",
              "    <div class=\"colab-df-container\">\n",
              "      <div>\n",
              "<style scoped>\n",
              "    .dataframe tbody tr th:only-of-type {\n",
              "        vertical-align: middle;\n",
              "    }\n",
              "\n",
              "    .dataframe tbody tr th {\n",
              "        vertical-align: top;\n",
              "    }\n",
              "\n",
              "    .dataframe thead th {\n",
              "        text-align: right;\n",
              "    }\n",
              "</style>\n",
              "<table border=\"1\" class=\"dataframe\">\n",
              "  <thead>\n",
              "    <tr style=\"text-align: right;\">\n",
              "      <th></th>\n",
              "      <th>year</th>\n",
              "      <th>month</th>\n",
              "      <th>day</th>\n",
              "      <th>gender</th>\n",
              "      <th>births</th>\n",
              "    </tr>\n",
              "  </thead>\n",
              "  <tbody>\n",
              "    <tr>\n",
              "      <th>0</th>\n",
              "      <td>1969</td>\n",
              "      <td>1</td>\n",
              "      <td>1.0</td>\n",
              "      <td>F</td>\n",
              "      <td>4046</td>\n",
              "    </tr>\n",
              "    <tr>\n",
              "      <th>1</th>\n",
              "      <td>1969</td>\n",
              "      <td>1</td>\n",
              "      <td>1.0</td>\n",
              "      <td>M</td>\n",
              "      <td>4440</td>\n",
              "    </tr>\n",
              "    <tr>\n",
              "      <th>2</th>\n",
              "      <td>1969</td>\n",
              "      <td>1</td>\n",
              "      <td>2.0</td>\n",
              "      <td>F</td>\n",
              "      <td>4454</td>\n",
              "    </tr>\n",
              "    <tr>\n",
              "      <th>3</th>\n",
              "      <td>1969</td>\n",
              "      <td>1</td>\n",
              "      <td>2.0</td>\n",
              "      <td>M</td>\n",
              "      <td>4548</td>\n",
              "    </tr>\n",
              "    <tr>\n",
              "      <th>4</th>\n",
              "      <td>1969</td>\n",
              "      <td>1</td>\n",
              "      <td>3.0</td>\n",
              "      <td>F</td>\n",
              "      <td>4548</td>\n",
              "    </tr>\n",
              "  </tbody>\n",
              "</table>\n",
              "</div>\n",
              "      <button class=\"colab-df-convert\" onclick=\"convertToInteractive('df-617678c1-f6cb-43b5-8389-26f1023945a8')\"\n",
              "              title=\"Convert this dataframe to an interactive table.\"\n",
              "              style=\"display:none;\">\n",
              "        \n",
              "  <svg xmlns=\"http://www.w3.org/2000/svg\" height=\"24px\"viewBox=\"0 0 24 24\"\n",
              "       width=\"24px\">\n",
              "    <path d=\"M0 0h24v24H0V0z\" fill=\"none\"/>\n",
              "    <path d=\"M18.56 5.44l.94 2.06.94-2.06 2.06-.94-2.06-.94-.94-2.06-.94 2.06-2.06.94zm-11 1L8.5 8.5l.94-2.06 2.06-.94-2.06-.94L8.5 2.5l-.94 2.06-2.06.94zm10 10l.94 2.06.94-2.06 2.06-.94-2.06-.94-.94-2.06-.94 2.06-2.06.94z\"/><path d=\"M17.41 7.96l-1.37-1.37c-.4-.4-.92-.59-1.43-.59-.52 0-1.04.2-1.43.59L10.3 9.45l-7.72 7.72c-.78.78-.78 2.05 0 2.83L4 21.41c.39.39.9.59 1.41.59.51 0 1.02-.2 1.41-.59l7.78-7.78 2.81-2.81c.8-.78.8-2.07 0-2.86zM5.41 20L4 18.59l7.72-7.72 1.47 1.35L5.41 20z\"/>\n",
              "  </svg>\n",
              "      </button>\n",
              "      \n",
              "  <style>\n",
              "    .colab-df-container {\n",
              "      display:flex;\n",
              "      flex-wrap:wrap;\n",
              "      gap: 12px;\n",
              "    }\n",
              "\n",
              "    .colab-df-convert {\n",
              "      background-color: #E8F0FE;\n",
              "      border: none;\n",
              "      border-radius: 50%;\n",
              "      cursor: pointer;\n",
              "      display: none;\n",
              "      fill: #1967D2;\n",
              "      height: 32px;\n",
              "      padding: 0 0 0 0;\n",
              "      width: 32px;\n",
              "    }\n",
              "\n",
              "    .colab-df-convert:hover {\n",
              "      background-color: #E2EBFA;\n",
              "      box-shadow: 0px 1px 2px rgba(60, 64, 67, 0.3), 0px 1px 3px 1px rgba(60, 64, 67, 0.15);\n",
              "      fill: #174EA6;\n",
              "    }\n",
              "\n",
              "    [theme=dark] .colab-df-convert {\n",
              "      background-color: #3B4455;\n",
              "      fill: #D2E3FC;\n",
              "    }\n",
              "\n",
              "    [theme=dark] .colab-df-convert:hover {\n",
              "      background-color: #434B5C;\n",
              "      box-shadow: 0px 1px 3px 1px rgba(0, 0, 0, 0.15);\n",
              "      filter: drop-shadow(0px 1px 2px rgba(0, 0, 0, 0.3));\n",
              "      fill: #FFFFFF;\n",
              "    }\n",
              "  </style>\n",
              "\n",
              "      <script>\n",
              "        const buttonEl =\n",
              "          document.querySelector('#df-617678c1-f6cb-43b5-8389-26f1023945a8 button.colab-df-convert');\n",
              "        buttonEl.style.display =\n",
              "          google.colab.kernel.accessAllowed ? 'block' : 'none';\n",
              "\n",
              "        async function convertToInteractive(key) {\n",
              "          const element = document.querySelector('#df-617678c1-f6cb-43b5-8389-26f1023945a8');\n",
              "          const dataTable =\n",
              "            await google.colab.kernel.invokeFunction('convertToInteractive',\n",
              "                                                     [key], {});\n",
              "          if (!dataTable) return;\n",
              "\n",
              "          const docLinkHtml = 'Like what you see? Visit the ' +\n",
              "            '<a target=\"_blank\" href=https://colab.research.google.com/notebooks/data_table.ipynb>data table notebook</a>'\n",
              "            + ' to learn more about interactive tables.';\n",
              "          element.innerHTML = '';\n",
              "          dataTable['output_type'] = 'display_data';\n",
              "          await google.colab.output.renderOutput(dataTable, element);\n",
              "          const docLink = document.createElement('div');\n",
              "          docLink.innerHTML = docLinkHtml;\n",
              "          element.appendChild(docLink);\n",
              "        }\n",
              "      </script>\n",
              "    </div>\n",
              "  </div>\n",
              "  "
            ]
          },
          "metadata": {},
          "execution_count": 6
        }
      ]
    },
    {
      "cell_type": "code",
      "source": [
        "\n",
        "quartiles_df = np.percentile(df['births'], [25, 50, 75])\n",
        "mu, sig = quartiles_df[1], 0.74 * (quartiles_df[2] - quartiles_df[0])\n",
        "births_df = df.query('(births > @mu - 5 * @sig) & (births < @mu + 5 * @sig)')\n",
        "\n",
        "births_df['day'] = births_df['day'].astype(int)\n"
      ],
      "metadata": {
        "colab": {
          "base_uri": "https://localhost:8080/"
        },
        "id": "xGbq2DSnC31P",
        "outputId": "fbad5693-72e7-45ff-a9b7-5a8c67c4b15f"
      },
      "execution_count": 7,
      "outputs": [
        {
          "output_type": "stream",
          "name": "stderr",
          "text": [
            "/usr/local/lib/python3.7/dist-packages/ipykernel_launcher.py:6: SettingWithCopyWarning: \n",
            "A value is trying to be set on a copy of a slice from a DataFrame.\n",
            "Try using .loc[row_indexer,col_indexer] = value instead\n",
            "\n",
            "See the caveats in the documentation: https://pandas.pydata.org/pandas-docs/stable/user_guide/indexing.html#returning-a-view-versus-a-copy\n",
            "  \n"
          ]
        }
      ]
    },
    {
      "cell_type": "code",
      "source": [
        "births_df.index = pd.to_datetime(10000 * births_df.year + 100 * births_df.month + births_df.day, format='%Y%m%d')\n",
        "births_by_date = births_df.pivot_table('births', [births_df.index.month, births_df.index.day])\n",
        "births_by_date.index = [pd.datetime(2012, month, day) for (month, day) in births_by_date.index]\n",
        "\n",
        "fig, ax = plt.subplots(figsize=(12, 4))\n",
        "plt.title(\"USA births by day of year (1969 to 1988)\")\n",
        "plt.xlabel(\"Months\")\n",
        "plt.ylabel(\"Average Daily Births\")\n",
        "births_by_date.plot(ax=ax);"
      ],
      "metadata": {
        "colab": {
          "base_uri": "https://localhost:8080/",
          "height": 357
        },
        "id": "fJ13jS02C7Ut",
        "outputId": "c500c468-8845-49c2-cc69-54d19f7a1f8b"
      },
      "execution_count": 12,
      "outputs": [
        {
          "output_type": "stream",
          "name": "stderr",
          "text": [
            "/usr/local/lib/python3.7/dist-packages/ipykernel_launcher.py:3: FutureWarning: The pandas.datetime class is deprecated and will be removed from pandas in a future version. Import from datetime module instead.\n",
            "  This is separate from the ipykernel package so we can avoid doing imports until\n"
          ]
        },
        {
          "output_type": "display_data",
          "data": {
            "text/plain": [
              "<Figure size 864x288 with 1 Axes>"
            ],
            "image/png": "[encoded data removed]"
          },
          "metadata": {}
        }
      ]
    },
    {
      "cell_type": "markdown",
      "metadata": {
        "id": "jrM6-kj68Xfu"
      },
      "source": [
        ":<span style='background:yellow'>**Question 2 (40 pt).**</span> Write a python program to evaluate the text classification performance using accuracy, precision, recall, and f1 score. \n",
        "\n",
        "Accuracy = (TP + TN) / (TP+ TN+ FP+ FN)\n",
        "\n",
        "Recall = (TP) / (TP+FN)\n",
        "\n",
        "Precision = (TP) / (TP+FP)\n",
        "\n",
        "F1 Score = (2*Precision*Recall) / (Precision + Recall)\n",
        "\n",
        "Here is the confusion matrix of a text classfication task (six categories) on the testing data. \n",
        "\n"
      ]
    },
    {
      "cell_type": "code",
      "source": [
        "#### You code here\n",
        "\n",
        "TP = 157\n",
        "FP = 76\n",
        "FN = 111\n",
        "TN = 661\n",
        "\n",
        "acuracy = (TP + TN) / (TP+ TN+ FP+ FN)\n",
        "recall = (TP) / (TP+FN)\n",
        "precision = (TP) / (TP+FP)\n",
        "f1score = (2*precision*recall) / (precision + recall)\n",
        "\n",
        "print(\"accuracy\" , acuracy)\n",
        "print(\"recall\", recall)\n",
        "print(\"precision\", precision)\n",
        "print(\"f1_score\",f1score)"
      ],
      "metadata": {
        "colab": {
          "base_uri": "https://localhost:8080/"
        },
        "id": "_HLQ9ZN2PY2Z",
        "outputId": "12b6b649-1235-4e2c-9170-a4a7e19415a6"
      },
      "execution_count": 83,
      "outputs": [
        {
          "output_type": "stream",
          "name": "stdout",
          "text": [
            "accuracy 0.8139303482587065\n",
            "recall 0.585820895522388\n",
            "precision 0.6738197424892703\n",
            "f1_score 0.626746506986028\n"
          ]
        }
      ]
    },
    {
      "cell_type": "code",
      "source": [
        "\n",
        "import numpy as np\n",
        "\n",
        "confusion_matrix = [[157,46,25,22,15,3],\n",
        "              [28,151,45,18,1,6],\n",
        "              [11,38,135,14,3,7],\n",
        "              [11,15,18,70,6,4],\n",
        "              [14,12,14,7,56,2],\n",
        "              [12,7,6,5,5,16]]\n",
        "\n",
        "confusion = np.array(confusion_matrix)\n",
        "\n",
        "\n",
        "\n",
        "for i in range(len(confusion)):\n",
        "    \n",
        "    accuracy = 0\n",
        "    precision = 0\n",
        "    recall = 0\n",
        "    f1_score = 0\n",
        "    \n",
        "    TP = confusion[i,i]\n",
        "    FP = confusion[i,:].sum() - TP\n",
        "    FN = confusion[:,i].sum() - TP\n",
        "    TN = confusion.sum().sum() - (TP+FP+FN)\n",
        "    \n",
        "    accuracy = (TP+TN)/confusion.sum().sum()\n",
        "    precision = TP/(TP+FP)\n",
        "    recall = TP/(TP+FN)\n",
        "    f1_score = 2*precision*recall/(precision+recall)\n",
        "    \n",
        "    print(f'Accuracy of the class{i} is {accuracy}')\n",
        "    print(f'Precision of the class{i} is {precision}')\n",
        "    print(f'Recall of the class{i} is {recall}')\n",
        "    print(f'F1-Score of the class{i} is {f1_score}')\n",
        "    print()"
      ],
      "metadata": {
        "colab": {
          "base_uri": "https://localhost:8080/"
        },
        "id": "4P7eClzNXUBt",
        "outputId": "f1530677-43ee-4df6-872a-4fd2d65ab36f"
      },
      "execution_count": 86,
      "outputs": [
        {
          "output_type": "stream",
          "name": "stdout",
          "text": [
            "Accuracy of the class0 is 0.8139303482587065\n",
            "Precision of the class0 is 0.585820895522388\n",
            "Recall of the class0 is 0.6738197424892703\n",
            "F1-Score of the class0 is 0.626746506986028\n",
            "\n",
            "Accuracy of the class1 is 0.7850746268656716\n",
            "Precision of the class1 is 0.606425702811245\n",
            "Recall of the class1 is 0.5613382899628253\n",
            "F1-Score of the class1 is 0.583011583011583\n",
            "\n",
            "Accuracy of the class2 is 0.8199004975124378\n",
            "Precision of the class2 is 0.6490384615384616\n",
            "Recall of the class2 is 0.5555555555555556\n",
            "F1-Score of the class2 is 0.598669623059867\n",
            "\n",
            "Accuracy of the class3 is 0.8805970149253731\n",
            "Precision of the class3 is 0.5645161290322581\n",
            "Recall of the class3 is 0.5147058823529411\n",
            "F1-Score of the class3 is 0.5384615384615384\n",
            "\n",
            "Accuracy of the class4 is 0.9213930348258706\n",
            "Precision of the class4 is 0.5333333333333333\n",
            "Recall of the class4 is 0.6511627906976745\n",
            "F1-Score of the class4 is 0.5863874345549738\n",
            "\n",
            "Accuracy of the class5 is 0.9432835820895522\n",
            "Precision of the class5 is 0.3137254901960784\n",
            "Recall of the class5 is 0.42105263157894735\n",
            "F1-Score of the class5 is 0.3595505617977528\n",
            "\n"
          ]
        }
      ]
    },
    {
      "cell_type": "markdown",
      "metadata": {
        "id": "LVJ3wljK8Xfv"
      },
      "source": [
        "<span style='background:yellow'>**Question 3 (100 pt, each sub-question is 10 pt).**</span> \n",
        "\n",
        "Part A: Given Inetd dataset, an intrusion detection dataset that contains 2 columns. The first column represents a process ID number (PID) and the second column represents a system call. The goal is to extract the entire system call sequence by its PID, then tokenize and parse each sequence into 25-grams. After this, we’ll split the data into training and testing sets. Next, we ensure data quality in the training dataset by removing duplicate sequences within each class and overlapped sequences between both classes. To ensure a fair evaluation, we also clean the testing set by repeating the previous step. You will implement a Decision Tree model to train and test on the training set and testing set that we just clean. \n",
        "\n",
        "\n",
        "Part B: As the data type is sequential, we want to know how similar the sequences from both classes are and visualize how the similarity scores vary in different sequence lengths. Compute a cosine similarity score of 100 random pairs from both classes and get a median cosine similarity. Repeat this step in different sequence lengths (5, 10, 15, and 20). Plot a line chart to visualize how the median cosine similarities vary through sequence lengths of 5 to 25. \n",
        "\n",
        "You can download the datasets from github: https://github.com/unt-iialab/info5502-spring2022/tree/main/finalexam/q4\n",
        "\n",
        "\n",
        "Step by step instructions and questions:\n",
        "\n",
        "(1) Attached are the Normal and Intrusion data folders. Read in the data and store them in two separate dataframes. Combine the system calls (the second column) from the same PID (the first column) into a sequence or a string. \n",
        "\n",
        "(2) Parse an entire sequence into smaller sequences of size 25. (Hint: Use word_tokenize and ngrams from nltk library to parse).\n",
        "\n",
        "(3) Add labels to the data, and partition the labeled data into training data and testing data with a ratio of 70/30.\n",
        "\n",
        "(4) As the dataset has a lot of duplicate sequences, make sure that the testing data only contain unique sequences and that these sequences do not exist in the training data. Condense training data and testing data into two sets. Take the difference between the testing set and training set to remove the overlapped sequences from the testing data. \n",
        "\n",
        "(5) The sequences from each class can be repetitive, and some of these sequences may have different labels. Therefore, we need to remove the duplicate sequences within each class and the overlapped sequences from the Intrusion class. Start out by separating the Normal class and Intrusion class in the training data. Use the same concept in Question 4 to remove duplicate sequences and overlapped sequences from the training data.\n",
        "\n",
        "(6) Repeat Question 5 to clean the testing data.\n",
        "\n",
        "(7) Bootstrap the training data to get the same number of sequences from each class. Train and evaluate a Decision Tree model using the training data and testing data that we just clean. How is the performance?\n",
        "\n",
        "(8) Randomly sample 100 pairs of sequences from both classes and calculate the median cosine similarity.\n",
        "\n",
        "(9) Refer back to Question 2, parse the data into a length of 5, 10, 15, and 20. Clean the data from each class using Question 5. For each sequence length, calculate the median cosine similarity of 100 random pairs of sequences from both classes. \n",
        "\n",
        "(10) Plot a line chart to visualize how the median cosine similarities vary through different sequence lengths from 5 to 25.\n"
      ]
    },
    {
      "cell_type": "code",
      "execution_count": null,
      "metadata": {
        "id": "cogVvfM28Xf2"
      },
      "outputs": [],
      "source": [
        "#### You code here\n",
        "\n",
        "\n",
        "\n",
        "\n"
      ]
    },
    {
      "cell_type": "markdown",
      "metadata": {
        "id": "QXvNAcIM8Xf2"
      },
      "source": [
        "<span style='background:yellow'>**Question 4 (60 pt, each sub-question is 20 pt).**</span> In the world of business, the importance of the customers’ reviews for any product is not ignorable. The impact of customers’ reviews on customer’s decision making is significant. Therefore, businesses try to increase this impact by increasing the ratio of the positive reviews to negative reviews. One effective way to increase the ratio is offering the incentives such as small gifts or free next services to customers to post the reviews for item they purchase or used. However, it is not always the case, and customer may post their reviews without receiving or accepting the incentives. So, the reviews could be in either incentivized or non-incentivized category.\n",
        "\n",
        "\n",
        "Considering the importance of reviews, in this question you need to compare these two categories of reviews. One method to compare the effectiveness of two categories is conducting the A/B testing.\n",
        "\n",
        "\n",
        "The Software_Reviews dataset is collected from software review products, and it is combination of several small datasets. Find the dataset as an attachment on the left side of the page.\n",
        "\n",
        "\n",
        "You can downlaod the dataset from github: https://github.com/unt-iialab/info5502-spring2022/blob/main/finalexam/Software_Reviews_csv_files_S.csv\n",
        "\n",
        "(1) Clean the dataset before you use (You need to know this dataset is combinations of the several CSV files with title rows. So, there are extra title rows in the middle of the file, which they need to be removed.)\n",
        "\n",
        "\n",
        "(2) Apply an A/B test\": consider the “incentivized” column as main column for A & B groups.\n",
        "\n",
        "a. The “incentivized” column includes ‘NominalGift’, ‘VendorReferredIncentivized’, ‘NoIncentive’, ‘NonNominalGift’, ‘VendorReferred’, ‘None’\n",
        "\n",
        "b. Group A (Incentive): ‘NominalGift’, and ‘VendorReferredIncentivized’\n",
        "\n",
        "c. Group B (NoIncentive): ‘NoIncentive’, ‘NonNominalGift’, ‘VendorReferred’\n",
        "\n",
        "d. Make the decision if ‘None’ includes in either Group A or B or remove that.\n",
        "\n",
        "e. The “OverAllRating” is another column that is used to compare groups A and B.\n",
        "\n",
        "Which one A or B group has higher “OverAllRating”?\n",
        "\n",
        "\n",
        "(3) Draw the A/B testing related visualizations."
      ]
    },
    {
      "cell_type": "code",
      "source": [
        "#### You code and your answer here here\n",
        "\n",
        "import numpy as np\n",
        "from scipy.stats import norm"
      ],
      "metadata": {
        "id": "3OWddSB0R1h3"
      },
      "execution_count": 59,
      "outputs": []
    },
    {
      "cell_type": "code",
      "source": [
        "from google.colab import drive\n",
        "drive.mount('/content/drive')"
      ],
      "metadata": {
        "colab": {
          "base_uri": "https://localhost:8080/"
        },
        "id": "fKTVHdg8SHVX",
        "outputId": "444cd484-d76c-4f41-ce89-45de1e806169"
      },
      "execution_count": 60,
      "outputs": [
        {
          "output_type": "stream",
          "name": "stdout",
          "text": [
            "Drive already mounted at /content/drive; to attempt to forcibly remount, call drive.mount(\"/content/drive\", force_remount=True).\n"
          ]
        }
      ]
    },
    {
      "cell_type": "code",
      "source": [
        "data_df1 = pd.read_csv(\"/content/drive/MyDrive/Software_Reviews_csv_files_S.csv\")\n",
        "data_df1.head()"
      ],
      "metadata": {
        "colab": {
          "base_uri": "https://localhost:8080/",
          "height": 647
        },
        "id": "JZVqiGc5Sa_p",
        "outputId": "a0ed4f1f-1487-4ffa-cbba-8aa0fc907480"
      },
      "execution_count": 65,
      "outputs": [
        {
          "output_type": "execute_result",
          "data": {
            "text/plain": [
              "   Unnamed: 0 Unnamed: 0.1       id     status         global_review_id  \\\n",
              "0         0.0            0    13879  Published           GetApp___14383   \n",
              "1         1.0            1  1283833  Published  SoftwareAdvice___434035   \n",
              "2         2.0            2   841881  Published        Capterra___330384   \n",
              "3         3.0            3  1060237  Published  SoftwareAdvice___390950   \n",
              "4         4.0            4    13939  Published           GetApp___14453   \n",
              "\n",
              "  hash_global_review_id listing_id  \\\n",
              "0            f7535d1342      90666   \n",
              "1            8b72a5b935      90666   \n",
              "2            0d580775b7      90666   \n",
              "3            a36d0ef509      90666   \n",
              "4            efc7312240      90666   \n",
              "\n",
              "                                               title is_rating     score  ...  \\\n",
              "0                  The best CRM solution we've found     FALSE  4.462893  ...   \n",
              "1       Reasonable CRM software for small businesses     FALSE  4.462893  ...   \n",
              "2  Security certificate warning, basic lists inac...     FALSE  4.462893  ...   \n",
              "3  1CRM is a great started CRM for a Service Company     FALSE  4.462893  ...   \n",
              "4  Excellent business management app for the SMB ...     FALSE  4.462893  ...   \n",
              "\n",
              "  is_verified   full_name                     company_industry  \\\n",
              "0        TRUE   Marcus B.  Information Technology and Services   \n",
              "1       FALSE  Rushang D.            Marketing and Advertising   \n",
              "2       FALSE   Julian G.                    Computer Hardware   \n",
              "3       FALSE    James C.                Management Consulting   \n",
              "4        TRUE  Jacques G.                   Telecommunications   \n",
              "\n",
              "  frequency_of_use    time_used          source incentivized  \\\n",
              "0              NaN    1-2 years          GetApp          NaN   \n",
              "1            daily     2+ years  SoftwareAdvice  NominalGift   \n",
              "2            daily  6-12 months        Capterra  NominalGift   \n",
              "3            daily    1-2 years  SoftwareAdvice  NominalGift   \n",
              "4              NaN    1-2 years          GetApp          NaN   \n",
              "\n",
              "  ReviewDescription_score   Pros_score   Unnamed: 27  \n",
              "0             0.993886769  0.994333982  1.850533e+04  \n",
              "1             0.998566568   0.99880743  1.711777e+06  \n",
              "2             0.999743998  0.996420145  1.122507e+06  \n",
              "3             0.938319802  0.986604214  1.413648e+06  \n",
              "4             0.985312879  0.996334434  1.858400e+04  \n",
              "\n",
              "[5 rows x 28 columns]"
            ],
            "text/html": [
              "\n",
              "  <div id=\"df-6b21b7f8-f8b6-41ff-8cfe-d494549b2fa5\">\n",
              "    <div class=\"colab-df-container\">\n",
              "      <div>\n",
              "<style scoped>\n",
              "    .dataframe tbody tr th:only-of-type {\n",
              "        vertical-align: middle;\n",
              "    }\n",
              "\n",
              "    .dataframe tbody tr th {\n",
              "        vertical-align: top;\n",
              "    }\n",
              "\n",
              "    .dataframe thead th {\n",
              "        text-align: right;\n",
              "    }\n",
              "</style>\n",
              "<table border=\"1\" class=\"dataframe\">\n",
              "  <thead>\n",
              "    <tr style=\"text-align: right;\">\n",
              "      <th></th>\n",
              "      <th>Unnamed: 0</th>\n",
              "      <th>Unnamed: 0.1</th>\n",
              "      <th>id</th>\n",
              "      <th>status</th>\n",
              "      <th>global_review_id</th>\n",
              "      <th>hash_global_review_id</th>\n",
              "      <th>listing_id</th>\n",
              "      <th>title</th>\n",
              "      <th>is_rating</th>\n",
              "      <th>score</th>\n",
              "      <th>...</th>\n",
              "      <th>is_verified</th>\n",
              "      <th>full_name</th>\n",
              "      <th>company_industry</th>\n",
              "      <th>frequency_of_use</th>\n",
              "      <th>time_used</th>\n",
              "      <th>source</th>\n",
              "      <th>incentivized</th>\n",
              "      <th>ReviewDescription_score</th>\n",
              "      <th>Pros_score</th>\n",
              "      <th>Unnamed: 27</th>\n",
              "    </tr>\n",
              "  </thead>\n",
              "  <tbody>\n",
              "    <tr>\n",
              "      <th>0</th>\n",
              "      <td>0.0</td>\n",
              "      <td>0</td>\n",
              "      <td>13879</td>\n",
              "      <td>Published</td>\n",
              "      <td>GetApp___14383</td>\n",
              "      <td>f7535d1342</td>\n",
              "      <td>90666</td>\n",
              "      <td>The best CRM solution we've found</td>\n",
              "      <td>FALSE</td>\n",
              "      <td>4.462893</td>\n",
              "      <td>...</td>\n",
              "      <td>TRUE</td>\n",
              "      <td>Marcus B.</td>\n",
              "      <td>Information Technology and Services</td>\n",
              "      <td>NaN</td>\n",
              "      <td>1-2 years</td>\n",
              "      <td>GetApp</td>\n",
              "      <td>NaN</td>\n",
              "      <td>0.993886769</td>\n",
              "      <td>0.994333982</td>\n",
              "      <td>1.850533e+04</td>\n",
              "    </tr>\n",
              "    <tr>\n",
              "      <th>1</th>\n",
              "      <td>1.0</td>\n",
              "      <td>1</td>\n",
              "      <td>1283833</td>\n",
              "      <td>Published</td>\n",
              "      <td>SoftwareAdvice___434035</td>\n",
              "      <td>8b72a5b935</td>\n",
              "      <td>90666</td>\n",
              "      <td>Reasonable CRM software for small businesses</td>\n",
              "      <td>FALSE</td>\n",
              "      <td>4.462893</td>\n",
              "      <td>...</td>\n",
              "      <td>FALSE</td>\n",
              "      <td>Rushang D.</td>\n",
              "      <td>Marketing and Advertising</td>\n",
              "      <td>daily</td>\n",
              "      <td>2+ years</td>\n",
              "      <td>SoftwareAdvice</td>\n",
              "      <td>NominalGift</td>\n",
              "      <td>0.998566568</td>\n",
              "      <td>0.99880743</td>\n",
              "      <td>1.711777e+06</td>\n",
              "    </tr>\n",
              "    <tr>\n",
              "      <th>2</th>\n",
              "      <td>2.0</td>\n",
              "      <td>2</td>\n",
              "      <td>841881</td>\n",
              "      <td>Published</td>\n",
              "      <td>Capterra___330384</td>\n",
              "      <td>0d580775b7</td>\n",
              "      <td>90666</td>\n",
              "      <td>Security certificate warning, basic lists inac...</td>\n",
              "      <td>FALSE</td>\n",
              "      <td>4.462893</td>\n",
              "      <td>...</td>\n",
              "      <td>FALSE</td>\n",
              "      <td>Julian G.</td>\n",
              "      <td>Computer Hardware</td>\n",
              "      <td>daily</td>\n",
              "      <td>6-12 months</td>\n",
              "      <td>Capterra</td>\n",
              "      <td>NominalGift</td>\n",
              "      <td>0.999743998</td>\n",
              "      <td>0.996420145</td>\n",
              "      <td>1.122507e+06</td>\n",
              "    </tr>\n",
              "    <tr>\n",
              "      <th>3</th>\n",
              "      <td>3.0</td>\n",
              "      <td>3</td>\n",
              "      <td>1060237</td>\n",
              "      <td>Published</td>\n",
              "      <td>SoftwareAdvice___390950</td>\n",
              "      <td>a36d0ef509</td>\n",
              "      <td>90666</td>\n",
              "      <td>1CRM is a great started CRM for a Service Company</td>\n",
              "      <td>FALSE</td>\n",
              "      <td>4.462893</td>\n",
              "      <td>...</td>\n",
              "      <td>FALSE</td>\n",
              "      <td>James C.</td>\n",
              "      <td>Management Consulting</td>\n",
              "      <td>daily</td>\n",
              "      <td>1-2 years</td>\n",
              "      <td>SoftwareAdvice</td>\n",
              "      <td>NominalGift</td>\n",
              "      <td>0.938319802</td>\n",
              "      <td>0.986604214</td>\n",
              "      <td>1.413648e+06</td>\n",
              "    </tr>\n",
              "    <tr>\n",
              "      <th>4</th>\n",
              "      <td>4.0</td>\n",
              "      <td>4</td>\n",
              "      <td>13939</td>\n",
              "      <td>Published</td>\n",
              "      <td>GetApp___14453</td>\n",
              "      <td>efc7312240</td>\n",
              "      <td>90666</td>\n",
              "      <td>Excellent business management app for the SMB ...</td>\n",
              "      <td>FALSE</td>\n",
              "      <td>4.462893</td>\n",
              "      <td>...</td>\n",
              "      <td>TRUE</td>\n",
              "      <td>Jacques G.</td>\n",
              "      <td>Telecommunications</td>\n",
              "      <td>NaN</td>\n",
              "      <td>1-2 years</td>\n",
              "      <td>GetApp</td>\n",
              "      <td>NaN</td>\n",
              "      <td>0.985312879</td>\n",
              "      <td>0.996334434</td>\n",
              "      <td>1.858400e+04</td>\n",
              "    </tr>\n",
              "  </tbody>\n",
              "</table>\n",
              "<p>5 rows × 28 columns</p>\n",
              "</div>\n",
              "      <button class=\"colab-df-convert\" onclick=\"convertToInteractive('df-6b21b7f8-f8b6-41ff-8cfe-d494549b2fa5')\"\n",
              "              title=\"Convert this dataframe to an interactive table.\"\n",
              "              style=\"display:none;\">\n",
              "        \n",
              "  <svg xmlns=\"http://www.w3.org/2000/svg\" height=\"24px\"viewBox=\"0 0 24 24\"\n",
              "       width=\"24px\">\n",
              "    <path d=\"M0 0h24v24H0V0z\" fill=\"none\"/>\n",
              "    <path d=\"M18.56 5.44l.94 2.06.94-2.06 2.06-.94-2.06-.94-.94-2.06-.94 2.06-2.06.94zm-11 1L8.5 8.5l.94-2.06 2.06-.94-2.06-.94L8.5 2.5l-.94 2.06-2.06.94zm10 10l.94 2.06.94-2.06 2.06-.94-2.06-.94-.94-2.06-.94 2.06-2.06.94z\"/><path d=\"M17.41 7.96l-1.37-1.37c-.4-.4-.92-.59-1.43-.59-.52 0-1.04.2-1.43.59L10.3 9.45l-7.72 7.72c-.78.78-.78 2.05 0 2.83L4 21.41c.39.39.9.59 1.41.59.51 0 1.02-.2 1.41-.59l7.78-7.78 2.81-2.81c.8-.78.8-2.07 0-2.86zM5.41 20L4 18.59l7.72-7.72 1.47 1.35L5.41 20z\"/>\n",
              "  </svg>\n",
              "      </button>\n",
              "      \n",
              "  <style>\n",
              "    .colab-df-container {\n",
              "      display:flex;\n",
              "      flex-wrap:wrap;\n",
              "      gap: 12px;\n",
              "    }\n",
              "\n",
              "    .colab-df-convert {\n",
              "      background-color: #E8F0FE;\n",
              "      border: none;\n",
              "      border-radius: 50%;\n",
              "      cursor: pointer;\n",
              "      display: none;\n",
              "      fill: #1967D2;\n",
              "      height: 32px;\n",
              "      padding: 0 0 0 0;\n",
              "      width: 32px;\n",
              "    }\n",
              "\n",
              "    .colab-df-convert:hover {\n",
              "      background-color: #E2EBFA;\n",
              "      box-shadow: 0px 1px 2px rgba(60, 64, 67, 0.3), 0px 1px 3px 1px rgba(60, 64, 67, 0.15);\n",
              "      fill: #174EA6;\n",
              "    }\n",
              "\n",
              "    [theme=dark] .colab-df-convert {\n",
              "      background-color: #3B4455;\n",
              "      fill: #D2E3FC;\n",
              "    }\n",
              "\n",
              "    [theme=dark] .colab-df-convert:hover {\n",
              "      background-color: #434B5C;\n",
              "      box-shadow: 0px 1px 3px 1px rgba(0, 0, 0, 0.15);\n",
              "      filter: drop-shadow(0px 1px 2px rgba(0, 0, 0, 0.3));\n",
              "      fill: #FFFFFF;\n",
              "    }\n",
              "  </style>\n",
              "\n",
              "      <script>\n",
              "        const buttonEl =\n",
              "          document.querySelector('#df-6b21b7f8-f8b6-41ff-8cfe-d494549b2fa5 button.colab-df-convert');\n",
              "        buttonEl.style.display =\n",
              "          google.colab.kernel.accessAllowed ? 'block' : 'none';\n",
              "\n",
              "        async function convertToInteractive(key) {\n",
              "          const element = document.querySelector('#df-6b21b7f8-f8b6-41ff-8cfe-d494549b2fa5');\n",
              "          const dataTable =\n",
              "            await google.colab.kernel.invokeFunction('convertToInteractive',\n",
              "                                                     [key], {});\n",
              "          if (!dataTable) return;\n",
              "\n",
              "          const docLinkHtml = 'Like what you see? Visit the ' +\n",
              "            '<a target=\"_blank\" href=https://colab.research.google.com/notebooks/data_table.ipynb>data table notebook</a>'\n",
              "            + ' to learn more about interactive tables.';\n",
              "          element.innerHTML = '';\n",
              "          dataTable['output_type'] = 'display_data';\n",
              "          await google.colab.output.renderOutput(dataTable, element);\n",
              "          const docLink = document.createElement('div');\n",
              "          docLink.innerHTML = docLinkHtml;\n",
              "          element.appendChild(docLink);\n",
              "        }\n",
              "      </script>\n",
              "    </div>\n",
              "  </div>\n",
              "  "
            ]
          },
          "metadata": {},
          "execution_count": 65
        }
      ]
    },
    {
      "cell_type": "code",
      "execution_count": 92,
      "metadata": {
        "id": "De8SStpm8Xf3"
      },
      "outputs": [],
      "source": [
        "groupA = data_df1[(data_df1['incentivized'] == \"NominalGift\") | (data_df1['incentivized'] == \"VendorReferredIncentivized\")]['OverAllRating']\n",
        "\n",
        "groupB = data_df1[(data_df1['incentivized'] == \"NoIncentive\") | (data_df1['incentivized'] == \"NonNominalGift\") | (data_df1['incentivized'] == \"VendorReferred\")]['OverAllRating']\n"
      ]
    },
    {
      "cell_type": "code",
      "source": [
        "N_con = groupA.shape[0]\n",
        "N_exp = groupB.shape[0]\n"
      ],
      "metadata": {
        "id": "9J9nfAGkSqK3"
      },
      "execution_count": 93,
      "outputs": []
    },
    {
      "cell_type": "code",
      "source": [
        "# Significance Level\n",
        "alpha = 0.05\n",
        "\n",
        "m_con = np.mean(groupA)\n",
        "m_exp = np.mean(groupB)\n",
        "\n",
        "y1 = group_a.astype('float64')\n",
        "variance_con = np.var(y1)\n",
        "\n",
        "y2 = group_b.astype('float64')\n",
        "variance_exp = np.var(y2)\n",
        "\n",
        "#PooledVariance\n",
        "pooled_variance = np.sqrt(variance_con/N_con + variance_exp/N_exp)\n",
        "\n",
        "#Teststatistics\n",
        "T = (m_con-m_exp)/np.sqrt(variance_con/N_con + variance_exp/N_exp)\n",
        "\n",
        "#symmetry property two sided test and using of Normal distibution\n",
        "p_value = norm.sf(T)*2\n",
        "\n",
        "#Z-criticalvalue\n",
        "Z_crit  = norm.ppf(1-alpha/2)\n",
        "\n",
        "#Marginoferror\n",
        "m = Z_crit*pooled_variance\n",
        "\n",
        "#ConfidenceInterval\n",
        "CI = [(m_con - m_exp) - m, (m_con - m_exp) + m]\n",
        "\n",
        "print(\"Test Statistics stat: \", T)\n",
        "print(\"Z-critical: \", Z_crit)\n",
        "print(\"P_value: \", p_value)\n",
        "print(\"Confidence Interval of 2 sample Z-test for proportions: \", np.round(CI,2))\n",
        "\n",
        "import matplotlib.pyplot as plt\n",
        "z = np.arange(-3,3,  0.1)\n",
        "plt.plot(z, norm.pdf(z), label = 'Standard Normal Distribution',color = 'pink',linewidth = 2.5)\n",
        "plt.fill_between(z[z>Z_crit], norm.pdf(z[z>Z_crit]), label = 'Right Rejection Region',color ='b' )\n",
        "plt.fill_between(z[z<(-1)*Z_crit], norm.pdf(z[z<(-1)*Z_crit]), label = 'Left Rejection Region',color ='g' )\n",
        "plt.title(\"Two Sample Z-test rejection region\")\n",
        "plt.legend()\n",
        "plt.show()"
      ],
      "metadata": {
        "colab": {
          "base_uri": "https://localhost:8080/",
          "height": 381
        },
        "id": "AkqVokf0T7O6",
        "outputId": "af60129f-66f0-4cda-c327-481087c0aecc"
      },
      "execution_count": 95,
      "outputs": [
        {
          "output_type": "stream",
          "name": "stderr",
          "text": [
            "/usr/local/lib/python3.7/dist-packages/ipykernel_launcher.py:17: RuntimeWarning: invalid value encountered in double_scalars\n",
            "/usr/local/lib/python3.7/dist-packages/ipykernel_launcher.py:29: RuntimeWarning: invalid value encountered in double_scalars\n"
          ]
        },
        {
          "output_type": "stream",
          "name": "stdout",
          "text": [
            "Test Statistics stat:  nan\n",
            "Z-critical:  1.959963984540054\n",
            "P_value:  nan\n",
            "Confidence Interval of 2 sample Z-test for proportions:  [nan nan]\n"
          ]
        },
        {
          "output_type": "display_data",
          "data": {
            "text/plain": [
              "<Figure size 432x288 with 1 Axes>"
            ],
            "image/png": "[encoded data removed]"
          },
          "metadata": {}
        }
      ]
    }
  ],
  "metadata": {
    "kernelspec": {
      "display_name": "Python 3",
      "language": "python",
      "name": "python3"
    },
    "language_info": {
      "codemirror_mode": {
        "name": "ipython",
        "version": 3
      },
      "file_extension": ".py",
      "mimetype": "text/x-python",
      "name": "python",
      "nbconvert_exporter": "python",
      "pygments_lexer": "ipython3",
      "version": "3.8.5"
    },
    "colab": {
      "name": "INFO 5502-Final Exam-Spring2022.ipynb",
      "provenance": [],
      "collapsed_sections": [],
      "include_colab_link": true
    }
  },
  "nbformat": 4,
  "nbformat_minor": 0
}