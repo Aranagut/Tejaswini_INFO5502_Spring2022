{
  "cells": [
    {
      "cell_type": "markdown",
      "metadata": {
        "id": "view-in-github",
        "colab_type": "text"
      },
      "source": [
        "<a href=\"https://colab.research.google.com/github/Aranagut/Tejaswini_INFO5502_Spring2022/blob/main/INFO_5502_Final_Exam_Q3_Spring2022.ipynb\" target=\"_parent\"><img src=\"https://colab.research.google.com/assets/colab-badge.svg\" alt=\"Open In Colab\"/></a>"
      ]
    },
    {
      "cell_type": "markdown",
      "id": "f42f252b",
      "metadata": {
        "id": "f42f252b"
      },
      "source": [
        "<span style='background:yellow'>**Question 3 (100 pt, each sub-question is 10 pt).**</span> \n",
        "\n",
        "Part A: Given Inetd dataset, an intrusion detection dataset that contains 2 columns. The first column represents a process ID number (PID) and the second column represents a system call. The goal is to extract the entire system call sequence by its PID, then tokenize and parse each sequence into 25-grams. After this, we’ll split the data into training and testing sets. Next, we ensure data quality in the training dataset by removing duplicate sequences within each class and overlapped sequences between both classes. To ensure a fair evaluation, we also clean the testing set by repeating the previous step. You will implement a Decision Tree model to train and test on the training set and testing set that we just clean. \n",
        "\n",
        "\n",
        "Part B: As the data type is sequential, we want to know how similar the sequences from both classes are and visualize how the similarity scores vary in different sequence lengths. Compute a cosine similarity score of 100 random pairs from both classes and get a median cosine similarity. Repeat this step in different sequence lengths (5, 10, 15, and 20). Plot a line chart to visualize how the median cosine similarities vary through sequence lengths of 5 to 25. \n",
        "\n",
        "You can download the datasets from github: https://github.com/unt-iialab/info5502-spring2022/tree/main/finalexam/q4\n",
        "\n",
        "\n",
        "Step by step instructions and questions:\n",
        "\n",
        "(1) Attached are the Normal and Intrusion data folders. Read in the data and store them in two separate dataframes. Combine the system calls (the second column) from the same PID (the first column) into a sequence or a string. \n",
        "\n",
        "(2) Parse an entire sequence into smaller sequences of size 25. (Hint: Use word_tokenize and ngrams from nltk library to parse).\n",
        "\n",
        "(3) Add labels to the data, and partition the labeled data into training data and testing data with a ratio of 70/30.\n",
        "\n",
        "(4) As the dataset has a lot of duplicate sequences, make sure that the testing data only contain unique sequences and that these sequences do not exist in the training data. Condense training data and testing data into two sets. Take the difference between the testing set and training set to remove the overlapped sequences from the testing data. \n",
        "\n",
        "(5) The sequences from each class can be repetitive, and some of these sequences may have different labels. Therefore, we need to remove the duplicate sequences within each class and the overlapped sequences from the Intrusion class. Start out by separating the Normal class and Intrusion class in the training data. Use the same concept in Question 4 to remove duplicate sequences and overlapped sequences from the training data.\n",
        "\n",
        "(6) Repeat Question 5 to clean the testing data.\n",
        "\n",
        "(7) Bootstrap the training data to get the same number of sequences from each class. Train and evaluate a Decision Tree model using the training data and testing data that we just clean. How is the performance?\n",
        "\n",
        "(8) Randomly sample 100 pairs of sequences from both classes and calculate the median cosine similarity.\n",
        "\n",
        "(9) Refer back to Question 2, parse the data into a length of 5, 10, 15, and 20. Clean the data from each class using Question 5. For each sequence length, calculate the median cosine similarity of 100 random pairs of sequences from both classes. \n",
        "\n",
        "(10) Plot a line chart to visualize how the median cosine similarities vary through different sequence lengths from 5 to 25.\n"
      ]
    },
    {
      "cell_type": "code",
      "execution_count": 14,
      "id": "5f20d853",
      "metadata": {
        "colab": {
          "base_uri": "https://localhost:8080/"
        },
        "id": "5f20d853",
        "outputId": "611da7bb-dd96-40c2-97dc-bf538cc6989a"
      },
      "outputs": [
        {
          "output_type": "stream",
          "name": "stdout",
          "text": [
            "   PID  SystemCalls\n",
            "0  167           90\n",
            "1  167          125\n",
            "\n",
            "   PID  SystemCalls\n",
            "0  167           90\n",
            "1  167          125\n"
          ]
        }
      ],
      "source": [
        "#### You code here\n",
        "# 1.)\n",
        "import pandas as pd\n",
        "import numpy as np\n",
        "\n",
        "intrusion = pd.read_csv(\"https://raw.githubusercontent.com/unt-iialab/info5502-spring2022/main/finalexam/q4/inetd-intrusion.int\", sep = \" \", header = None)\n",
        "normal = pd.read_csv(\"https://raw.githubusercontent.com/unt-iialab/info5502-spring2022/main/finalexam/q4/inetd-normal.int\", sep = \" \", header = None)\n",
        "\n",
        "intrusion.columns = ['PID', 'SystemCalls']\n",
        "normal.columns = ['PID', 'SystemCalls']\n",
        "\n",
        "print(intrusion.head(2))\n",
        "print()\n",
        "print(normal.head(2))"
      ]
    },
    {
      "cell_type": "code",
      "execution_count": 15,
      "id": "8a61c7eb",
      "metadata": {
        "colab": {
          "base_uri": "https://localhost:8080/"
        },
        "id": "8a61c7eb",
        "outputId": "9554b385-f366-4cf8-ee4c-131c8eb1d26f"
      },
      "outputs": [
        {
          "output_type": "stream",
          "name": "stdout",
          "text": [
            "(8371, 2)\n",
            "(541, 2)\n"
          ]
        }
      ],
      "source": [
        "print(intrusion.shape)\n",
        "print(normal.shape)"
      ]
    },
    {
      "cell_type": "code",
      "execution_count": 16,
      "id": "1577b114",
      "metadata": {
        "colab": {
          "base_uri": "https://localhost:8080/",
          "height": 35
        },
        "id": "1577b114",
        "outputId": "c98f1ce2-e395-473c-b617-154c458d0d93"
      },
      "outputs": [
        {
          "output_type": "execute_result",
          "data": {
            "text/plain": [
              "'90 125 125 106 5 90 6 5 3 90 90 90 90 6 125 91 125 125 125 136 49 24 47 50 45 45 5 106 106 106 106 106 2 1'"
            ],
            "application/vnd.google.colaboratory.intrinsic+json": {
              "type": "string"
            }
          },
          "metadata": {},
          "execution_count": 16
        }
      ],
      "source": [
        "idict = {}\n",
        "ndict = {}\n",
        "\n",
        "# combining system calls\n",
        "for pid in list(set(intrusion['PID'].values)):\n",
        "    idict[pid] = \" \".join(str(value) for value in list(intrusion[intrusion['PID'] == pid]['SystemCalls'].values))\n",
        "\n",
        "for pid in list(set(normal['PID'].values)):\n",
        "    ndict[pid] = \" \".join(str(value) for value in list(normal[normal['PID'] == pid]['SystemCalls'].values))\n",
        "\n",
        "idict[167]"
      ]
    },
    {
      "cell_type": "code",
      "execution_count": 31,
      "id": "6973ca24",
      "metadata": {
        "colab": {
          "base_uri": "https://localhost:8080/"
        },
        "id": "6973ca24",
        "outputId": "e856ad91-bf77-407f-b339-01b0a7c9d0ee"
      },
      "outputs": [
        {
          "output_type": "stream",
          "name": "stdout",
          "text": [
            "7627\n",
            "469\n"
          ]
        }
      ],
      "source": [
        "import re\n",
        "from nltk.util import ngrams\n",
        "ilist = []\n",
        "nlist = []\n",
        "\n",
        "#generating ngrams with sequence length of 25\n",
        "\n",
        "for key in idict.keys():\n",
        "    s = idict[key]\n",
        "    tokens = [token for token in s.split(\" \") if token != \"\"]\n",
        "    \n",
        "    for ele in list(ngrams(tokens, 25)):\n",
        "        ilist.append(ele)\n",
        "\n",
        "for key in ndict.keys():\n",
        "    s = ndict[key]\n",
        "    tokens = [token for token in s.split(\" \") if token != \"\"]\n",
        "    \n",
        "    for ele in list(ngrams(tokens, 25)):\n",
        "        nlist.append(ele)\n",
        "\n",
        "print(len(ilist))\n",
        "print(len(nlist))"
      ]
    },
    {
      "cell_type": "code",
      "execution_count": 32,
      "id": "b962057a",
      "metadata": {
        "colab": {
          "base_uri": "https://localhost:8080/"
        },
        "id": "b962057a",
        "outputId": "f382749b-2f6d-470c-b8f0-16717619f06d"
      },
      "outputs": [
        {
          "output_type": "stream",
          "name": "stdout",
          "text": [
            "(7627, 26)\n",
            "(469, 26)\n"
          ]
        }
      ],
      "source": [
        "idf = pd.DataFrame(ilist)\n",
        "ndf = pd.DataFrame(nlist)\n",
        "\n",
        "# adding labels to intrusion and normal data sequences\n",
        "idf['class'] = 1\n",
        "ndf['class'] = 0\n",
        "\n",
        "print(idf.shape)\n",
        "print(ndf.shape)"
      ]
    },
    {
      "cell_type": "code",
      "execution_count": 33,
      "id": "07983f99",
      "metadata": {
        "colab": {
          "base_uri": "https://localhost:8080/"
        },
        "id": "07983f99",
        "outputId": "a562ef44-e6c4-4295-e41a-ed6b9ce3a3f3"
      },
      "outputs": [
        {
          "output_type": "stream",
          "name": "stdout",
          "text": [
            "(8096, 26)\n"
          ]
        }
      ],
      "source": [
        "combined_df1 = pd.DataFrame()\n",
        "\n",
        "combined_df1 = combined_df1.append(idf)\n",
        "combined_df1 = combined_df1.append(ndf)\n",
        "\n",
        "print(combined_df1.shape)"
      ]
    },
    {
      "cell_type": "code",
      "execution_count": 34,
      "id": "4f09bbfb",
      "metadata": {
        "colab": {
          "base_uri": "https://localhost:8080/"
        },
        "id": "4f09bbfb",
        "outputId": "f580473b-4d36-4617-8538-1741523ac23c"
      },
      "outputs": [
        {
          "output_type": "execute_result",
          "data": {
            "text/plain": [
              "(333, 26)"
            ]
          },
          "metadata": {},
          "execution_count": 34
        }
      ],
      "source": [
        "#Removing duplicates\n",
        "combined_df1 = combined_df1.drop_duplicates(subset = combined_df1.columns[:-1], keep = 'last')\n",
        "combined_df1.shape"
      ]
    },
    {
      "cell_type": "code",
      "execution_count": 35,
      "id": "f46f9e88",
      "metadata": {
        "colab": {
          "base_uri": "https://localhost:8080/"
        },
        "id": "f46f9e88",
        "outputId": "706fe945-fe56-4369-9818-775fda211e6b"
      },
      "outputs": [
        {
          "output_type": "execute_result",
          "data": {
            "text/plain": [
              "1    177\n",
              "0    156\n",
              "Name: class, dtype: int64"
            ]
          },
          "metadata": {},
          "execution_count": 35
        }
      ],
      "source": [
        "combined_df1['class'].value_counts()"
      ]
    },
    {
      "cell_type": "code",
      "execution_count": 36,
      "id": "1ffbfe89",
      "metadata": {
        "colab": {
          "base_uri": "https://localhost:8080/"
        },
        "id": "1ffbfe89",
        "outputId": "063166db-f08f-412e-edfa-1135cb1b48f3"
      },
      "outputs": [
        {
          "output_type": "execute_result",
          "data": {
            "text/plain": [
              "Index([ 0,  1,  2,  3,  4,  5,  6,  7,  8,  9, 10, 11, 12, 13, 14, 15, 16, 17,\n",
              "       18, 19, 20, 21, 22, 23, 24],\n",
              "      dtype='object')"
            ]
          },
          "metadata": {},
          "execution_count": 36
        }
      ],
      "source": [
        "combined_df1.columns[:-1]"
      ]
    },
    {
      "cell_type": "code",
      "execution_count": 37,
      "id": "3065143a",
      "metadata": {
        "colab": {
          "base_uri": "https://localhost:8080/"
        },
        "id": "3065143a",
        "outputId": "7935072f-a7fc-4a92-8d7d-3b54e2c6e43f"
      },
      "outputs": [
        {
          "output_type": "stream",
          "name": "stdout",
          "text": [
            "              precision    recall  f1-score   support\n",
            "\n",
            "           0       0.78      0.82      0.80        22\n",
            "           1       0.91      0.89      0.90        45\n",
            "\n",
            "    accuracy                           0.87        67\n",
            "   macro avg       0.85      0.85      0.85        67\n",
            "weighted avg       0.87      0.87      0.87        67\n",
            "\n"
          ]
        }
      ],
      "source": [
        "#decision tree classifier\n",
        "\n",
        "from sklearn.tree import DecisionTreeClassifier\n",
        "from sklearn import preprocessing\n",
        "from sklearn.metrics import classification_report\n",
        "from sklearn.model_selection import train_test_split\n",
        "\n",
        "X = combined_df1.drop(\"class\", axis = 1)\n",
        "y = combined_df1['class']\n",
        "\n",
        "X_train, X_valid, y_train, y_valid = train_test_split(X, y, test_size = 0.2, random_state = 0)\n",
        "\n",
        "dt_classifier = DecisionTreeClassifier(max_depth = 10)\n",
        "dt_classifier.fit(X_train, y_train)\n",
        "y_predict = dt_classifier.predict(X_valid)\n",
        "\n",
        "print(classification_report(y_valid, y_predict))\n"
      ]
    },
    {
      "cell_type": "code",
      "source": [
        "'''\n",
        "Similarity scores for NGram range of 5 to 25\n",
        "'''"
      ],
      "metadata": {
        "id": "h4t0bw_Ti9ca"
      },
      "id": "h4t0bw_Ti9ca",
      "execution_count": null,
      "outputs": []
    },
    {
      "cell_type": "code",
      "execution_count": 38,
      "id": "0cf89814",
      "metadata": {
        "colab": {
          "base_uri": "https://localhost:8080/"
        },
        "id": "0cf89814",
        "outputId": "05a7045e-c8fc-48ee-950a-06710b530a88"
      },
      "outputs": [
        {
          "output_type": "stream",
          "name": "stdout",
          "text": [
            "(8776, 6)\n",
            "\n",
            "(168, 6)\n",
            "\n",
            "0.7663619739953176\n",
            "\n",
            "(8606, 11)\n",
            "\n",
            "(213, 11)\n",
            "\n",
            "0.7051714891598275\n",
            "\n",
            "(8436, 16)\n",
            "\n",
            "(254, 16)\n",
            "\n",
            "0.7546697783594023\n",
            "\n",
            "(8266, 21)\n",
            "\n",
            "(293, 21)\n",
            "\n",
            "0.7155202126924267\n",
            "\n",
            "(8096, 26)\n",
            "\n",
            "(333, 26)\n",
            "\n",
            "0.7265721368943157\n",
            "\n"
          ]
        }
      ],
      "source": [
        "import re\n",
        "from nltk.util import ngrams\n",
        "import pandas as pd\n",
        "\n",
        "cosine_similar_ngram = {}\n",
        "\n",
        "for ngram in range(5, 26, 5):\n",
        "\n",
        "    intrusion = pd.read_csv(\"https://raw.githubusercontent.com/unt-iialab/info5502-spring2022/main/finalexam/q4/inetd-intrusion.int\", sep = \" \", header = None)\n",
        "    normal = pd.read_csv(\"https://raw.githubusercontent.com/unt-iialab/info5502-spring2022/main/finalexam/q4/inetd-normal.int\", sep = \" \", header = None)\n",
        "\n",
        "    intrusion.columns = ['PID', 'SystemCalls']\n",
        "    normal.columns = ['PID', 'SystemCalls']\n",
        "\n",
        "    idict = {}\n",
        "    ndict = {}\n",
        "\n",
        "    for pid in list(set(intrusion['PID'].values)):\n",
        "        idict[pid] = \" \".join(str(value) for value in list(intrusion[intrusion['PID'] == pid]['SystemCalls'].values))\n",
        "\n",
        "    for pid in list(set(normal['PID'].values)):\n",
        "        ndict[pid] = \" \".join(str(value) for value in list(normal[normal['PID'] == pid]['SystemCalls'].values))\n",
        "\n",
        "    ilist = []\n",
        "    nlist = []\n",
        "    for key in idict.keys():\n",
        "        s = idict[key]\n",
        "        token = [token for token in s.split(\" \") if token != \"\"]\n",
        "\n",
        "        for ele in list(ngrams(token, ngram)):\n",
        "            ilist.append(ele)\n",
        "\n",
        "    for key in ndict.keys():\n",
        "        s = ndict[key]\n",
        "        token = [token for token in s.split(\" \") if token != \"\"]\n",
        "\n",
        "        for ele in list(ngrams(token, ngram)):\n",
        "            nlist.append(ele)\n",
        "\n",
        "    idf = pd.DataFrame(ilist)\n",
        "    ndf = pd.DataFrame(nlist)\n",
        "\n",
        "    idf['class'] = 1\n",
        "    ndf['class'] = 0\n",
        "\n",
        "    combined_df1 = pd.DataFrame()\n",
        "\n",
        "    combined_df1 = combined_df1.append(idf)\n",
        "    combined_df1 = combined_df1.append(ndf)\n",
        "\n",
        "    print(combined_df1.shape)\n",
        "    print()\n",
        "\n",
        "\n",
        "    combined_df1 = combined_df1.drop_duplicates(subset = combined_df1.columns[:-1], keep = 'last')\n",
        "    print(combined_df1.shape)\n",
        "    print()\n",
        "\n",
        "    from sklearn.metrics.pairwise import cosine_similarity\n",
        "    import statistics\n",
        "\n",
        "    similarity_list = []\n",
        "    for i in range(0, 100):\n",
        "        list1 = list(combined_df1[combined_df1['class'] == 0].sample(n = 1).iloc[0, :].values)\n",
        "        list2 = list(combined_df1[combined_df1['class'] == 1].sample(n = 1).iloc[0, :].values)\n",
        "        try:\n",
        "            similarity_list.append(cosine_similarity([list1], [list2]))\n",
        "        except Exception as e:\n",
        "            print(e)\n",
        "            print(list1, list2)\n",
        "\n",
        "    print(statistics.median(similarity_list)[0][0])\n",
        "    print()\n",
        "    cosine_similar_ngram[ngram] = statistics.median(similarity_list)[0][0]\n",
        "    "
      ]
    },
    {
      "cell_type": "code",
      "execution_count": 39,
      "id": "6d67292f",
      "metadata": {
        "colab": {
          "base_uri": "https://localhost:8080/",
          "height": 471
        },
        "id": "6d67292f",
        "outputId": "29915226-da3e-4f79-de48-729c7b9241ef"
      },
      "outputs": [
        {
          "output_type": "display_data",
          "data": {
            "text/plain": [
              "<Figure size 720x504 with 1 Axes>"
            ],
            "image/png": "[encoded data removed]"
          },
          "metadata": {
            "needs_background": "light"
          }
        }
      ],
      "source": [
        "import matplotlib.pyplot as plt\n",
        "import seaborn as sns\n",
        "\n",
        "cosine_similar_ngram_df = pd.DataFrame({\"Ngram\":list(cosine_similar_ngram.keys()), \"Similarity_scores\": list(cosine_similar_ngram.values())})\n",
        "\n",
        "plt.rcParams['figure.figsize'] = [10, 7]\n",
        "\n",
        "sns.lineplot(x = \"Ngram\", y = \"Similarity_scores\", data = cosine_similar_ngram_df)\n",
        "    \n",
        "plt.title(\"Line chart of the cosine similarity scores\")\n",
        "plt.xlabel(\"Ngram\")\n",
        "plt.ylabel(\"Cosine similarity scores\")\n",
        "plt.xticks(rotation = 90)\n",
        "plt.show()"
      ]
    }
  ],
  "metadata": {
    "kernelspec": {
      "display_name": "Python 3 (ipykernel)",
      "language": "python",
      "name": "python3"
    },
    "language_info": {
      "codemirror_mode": {
        "name": "ipython",
        "version": 3
      },
      "file_extension": ".py",
      "mimetype": "text/x-python",
      "name": "python",
      "nbconvert_exporter": "python",
      "pygments_lexer": "ipython3",
      "version": "3.9.7"
    },
    "colab": {
      "name": "INFO 5502-Final Exam--Q3--Spring2022.ipynb",
      "provenance": [],
      "include_colab_link": true
    }
  },
  "nbformat": 4,
  "nbformat_minor": 5
}